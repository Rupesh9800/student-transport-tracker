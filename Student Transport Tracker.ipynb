{
 "cells": [
  {
   "cell_type": "markdown",
   "id": "b6b9710d",
   "metadata": {},
   "source": [
    "# 🚍 Student Transport Tracker\n",
    "\n",
    "\n",
    "An interactive Data Analytics project with route tracking, dashboards, insights, and ethical awareness.\n",
    "\n",
    "**Author**: Rupesh Varma"
   ]
  },
  {
   "cell_type": "code",
   "execution_count": 1,
   "id": "dabbfb97",
   "metadata": {},
   "outputs": [],
   "source": [
    "import csv\n",
    "import pandas as pd\n",
    "import matplotlib.pyplot as plt\n",
    "import seaborn as sns\n",
    "from sklearn.model_selection import train_test_split\n",
    "from sklearn.tree import DecisionTreeClassifier\n",
    "from sklearn.metrics import accuracy_score"
   ]
  },
  {
   "cell_type": "code",
   "execution_count": 2,
   "id": "5e91f875-a039-4277-9cef-ab6b188d878b",
   "metadata": {},
   "outputs": [],
   "source": [
    "CSV_FILE = \"student_transport_dataset.csv\""
   ]
  },
  {
   "cell_type": "markdown",
   "id": "8bc894bd-b087-4c11-801e-350c2b5df8c4",
   "metadata": {},
   "source": [
    "## 1. Initialization"
   ]
  },
  {
   "cell_type": "code",
   "execution_count": 3,
   "id": "726fc040",
   "metadata": {},
   "outputs": [],
   "source": [
    "\n",
    "def init_csv():\n",
    "    try:\n",
    "        with open(CSV_FILE, \"x\", newline=\"\") as file:\n",
    "            writer = csv.writer(file)\n",
    "            writer.writerow([\"Student_ID\", \"Name\", \"Route\", \"Bus_No\"])\n",
    "    except FileExistsError:\n",
    "        pass"
   ]
  },
  {
   "cell_type": "markdown",
   "id": "f3bd04bb-94e4-45b7-aec4-5093a793ba3a",
   "metadata": {},
   "source": [
    "## 2. Register Students"
   ]
  },
  {
   "cell_type": "code",
   "execution_count": 4,
   "id": "118c0263",
   "metadata": {},
   "outputs": [],
   "source": [
    "def register_student(student_id, name, route, bus_no):\n",
    "    with open(CSV_FILE, \"a\", newline=\"\") as file:\n",
    "        writer = csv.writer(file)\n",
    "        writer.writerow([student_id, name, route, bus_no])\n",
    "    print(f\" Student {name} registered successfully!\")"
   ]
  },
  {
   "cell_type": "markdown",
   "id": "345df7c2-607c-48c4-896e-0fa116d2cd9a",
   "metadata": {},
   "source": [
    "## 3. Count Students per Route"
   ]
  },
  {
   "cell_type": "code",
   "execution_count": 6,
   "id": "cafd72fc",
   "metadata": {},
   "outputs": [],
   "source": [
    "\n",
    "def count_students_per_route():\n",
    "    df = pd.read_csv(CSV_FILE)\n",
    "    route_counts = df.groupby(\"Route\")[\"Student_ID\"].count()\n",
    "    print(\"\\n Students per Route:\")\n",
    "    display(route_counts.to_frame())\n",
    "    return route_counts"
   ]
  },
  {
   "cell_type": "markdown",
   "id": "ccb64cd0-70c0-462c-b116-cce54a980f4c",
   "metadata": {},
   "source": [
    "## 4. Route-wise Student List"
   ]
  },
  {
   "cell_type": "code",
   "execution_count": 8,
   "id": "bd8598ed",
   "metadata": {},
   "outputs": [],
   "source": [
    "def generate_route_list(route):\n",
    "    df = pd.read_csv(CSV_FILE)\n",
    "    route_students = df[df[\"Route\"] == route]\n",
    "    if route_students.empty:\n",
    "        print(f\" No students found in Route {route}\")\n",
    "    else:\n",
    "        print(f\"\\n Students in Route {route}:\")\n",
    "        display(route_students)\n",
    "    return route_students"
   ]
  },
  {
   "cell_type": "markdown",
   "id": "6dd2a210-5d6b-4691-a197-1e6cec347842",
   "metadata": {},
   "source": [
    "## 5. Bus-wise Student List"
   ]
  },
  {
   "cell_type": "code",
   "execution_count": 9,
   "id": "11cd1b55",
   "metadata": {},
   "outputs": [],
   "source": [
    "def generate_bus_list(bus_no):\n",
    "    df = pd.read_csv(CSV_FILE)\n",
    "    bus_students = df[df[\"Bus_No\"] == bus_no]\n",
    "    if bus_students.empty:\n",
    "        print(f\" No students found in Bus {bus_no}\")\n",
    "    else:\n",
    "        print(f\"\\n Students in Bus {bus_no}:\")\n",
    "        display(bus_students)\n",
    "    return bus_students"
   ]
  },
  {
   "cell_type": "markdown",
   "id": "d52b7995-5a44-48fa-89b4-244375d20a94",
   "metadata": {},
   "source": [
    "## 6. Visualization (Dashboard Quality)"
   ]
  },
  {
   "cell_type": "code",
   "execution_count": 10,
   "id": "8b8a113e",
   "metadata": {},
   "outputs": [],
   "source": [
    "def visualize_distribution():\n",
    "    df = pd.read_csv(CSV_FILE)\n",
    "    plt.figure(figsize=(10,5))\n",
    "    sns.countplot(x=\"Route\", data=df, hue=\"Route\", palette=\"Set2\", legend=False)\n",
    "    plt.title(\" Students per Route\")\n",
    "    plt.xlabel(\"Route\")\n",
    "    plt.ylabel(\"Number of Students\")\n",
    "    plt.show()\n",
    "    plt.figure(figsize=(10,5))\n",
    "    sns.countplot(x=\"Bus_No\", data=df, hue=\"Bus_No\", palette=\"Set3\", legend=False)\n",
    "    plt.title(\" Students per Bus\")\n",
    "    plt.xlabel(\"Bus Number\")\n",
    "    plt.ylabel(\"Number of Students\")\n",
    "    plt.show()\n"
   ]
  },
  {
   "cell_type": "markdown",
   "id": "1d191258-1083-4f94-ab72-9d88bfe90e51",
   "metadata": {},
   "source": [
    "## 7. Machine Learning Model Example"
   ]
  },
  {
   "cell_type": "code",
   "execution_count": 11,
   "id": "ae009dfe-0631-420f-a86e-fc903e5333c2",
   "metadata": {},
   "outputs": [],
   "source": [
    "def simple_ml_model():\n",
    "    df = pd.read_csv(CSV_FILE)\n",
    "    df[\"Bus_No_Encoded\"] = df[\"Bus_No\"].astype('category').cat.codes\n",
    "    df[\"Route_Encoded\"] = df[\"Route\"].astype('category').cat.codes\n",
    "    X = df[[\"Bus_No_Encoded\"]]\n",
    "    y = df[\"Route_Encoded\"]\n",
    "    X_train, X_test, y_train, y_test = train_test_split(X, y, test_size=0.3, random_state=42)\n",
    "    model = DecisionTreeClassifier()\n",
    "    model.fit(X_train, y_train)\n",
    "    preds = model.predict(X_test)\n",
    "    acc = accuracy_score(y_test, preds)\n",
    "    print(f\"\\n ML Model Accuracy (Predicting Route from Bus_No): {acc:.2f}\")\n",
    "    return acc"
   ]
  },
  {
   "cell_type": "markdown",
   "id": "038c71b7-9285-4df8-b28f-5775602a6755",
   "metadata": {},
   "source": [
    "## 8. Ethical and Bias Awareness"
   ]
  },
  {
   "cell_type": "code",
   "execution_count": 12,
   "id": "c27dd1fb-0f88-4647-83ce-c4aab5aad783",
   "metadata": {},
   "outputs": [],
   "source": [
    "def bias_check():\n",
    "    df = pd.read_csv(CSV_FILE)\n",
    "    route_counts = df[\"Route\"].value_counts()\n",
    "    print(\"\\n Bias Check:\")\n",
    "    if route_counts.max() > 2 * route_counts.min():\n",
    "        print(\" Some routes are overloaded compared to others.\")\n",
    "    else:\n",
    "        print(\" Student distribution across routes looks balanced.\")"
   ]
  },
  {
   "cell_type": "markdown",
   "id": "65194dcc-2b1d-4c79-97ea-46fb5c0f2835",
   "metadata": {},
   "source": [
    "## DEMO EXECUTION"
   ]
  },
  {
   "cell_type": "code",
   "execution_count": 13,
   "id": "cc5c6b24-350b-49b0-a672-b153c7ae31f7",
   "metadata": {},
   "outputs": [],
   "source": [
    "init_csv()"
   ]
  },
  {
   "cell_type": "code",
   "execution_count": 14,
   "id": "4caffc6c-3844-425c-94e2-523f13a1c969",
   "metadata": {},
   "outputs": [
    {
     "name": "stdout",
     "output_type": "stream",
     "text": [
      " Student Arjun registered successfully!\n",
      " Student Lavanya registered successfully!\n",
      " Student Rupesh registered successfully!\n",
      " Student Preethi registered successfully!\n",
      " Student Kiran registered successfully!\n"
     ]
    }
   ],
   "source": [
    "# Register sample students\n",
    "register_student(\"S101\", \"Arjun\", \"R2\", \"B12\")\n",
    "register_student(\"S102\", \"Lavanya\", \"R3\", \"B13\")\n",
    "register_student(\"S103\", \"Rupesh\", \"R2\", \"B12\")\n",
    "register_student(\"S104\", \"Preethi\", \"R3\", \"B13\")\n",
    "register_student(\"S105\", \"Kiran\", \"R4\", \"B14\")"
   ]
  },
  {
   "cell_type": "code",
   "execution_count": 15,
   "id": "7105a6c9-b44d-4f84-bc14-1ce67553c6aa",
   "metadata": {},
   "outputs": [
    {
     "name": "stdout",
     "output_type": "stream",
     "text": [
      "\n",
      " Students per Route:\n"
     ]
    },
    {
     "data": {
      "text/html": [
       "<div>\n",
       "<style scoped>\n",
       "    .dataframe tbody tr th:only-of-type {\n",
       "        vertical-align: middle;\n",
       "    }\n",
       "\n",
       "    .dataframe tbody tr th {\n",
       "        vertical-align: top;\n",
       "    }\n",
       "\n",
       "    .dataframe thead th {\n",
       "        text-align: right;\n",
       "    }\n",
       "</style>\n",
       "<table border=\"1\" class=\"dataframe\">\n",
       "  <thead>\n",
       "    <tr style=\"text-align: right;\">\n",
       "      <th></th>\n",
       "      <th>Student_ID</th>\n",
       "    </tr>\n",
       "    <tr>\n",
       "      <th>Route</th>\n",
       "      <th></th>\n",
       "    </tr>\n",
       "  </thead>\n",
       "  <tbody>\n",
       "    <tr>\n",
       "      <th>R1</th>\n",
       "      <td>202</td>\n",
       "    </tr>\n",
       "    <tr>\n",
       "      <th>R2</th>\n",
       "      <td>230</td>\n",
       "    </tr>\n",
       "    <tr>\n",
       "      <th>R3</th>\n",
       "      <td>219</td>\n",
       "    </tr>\n",
       "    <tr>\n",
       "      <th>R4</th>\n",
       "      <td>204</td>\n",
       "    </tr>\n",
       "    <tr>\n",
       "      <th>R5</th>\n",
       "      <td>190</td>\n",
       "    </tr>\n",
       "  </tbody>\n",
       "</table>\n",
       "</div>"
      ],
      "text/plain": [
       "       Student_ID\n",
       "Route            \n",
       "R1            202\n",
       "R2            230\n",
       "R3            219\n",
       "R4            204\n",
       "R5            190"
      ]
     },
     "metadata": {},
     "output_type": "display_data"
    },
    {
     "name": "stdout",
     "output_type": "stream",
     "text": [
      "\n",
      " Students in Route R2:\n"
     ]
    },
    {
     "data": {
      "text/html": [
       "<div>\n",
       "<style scoped>\n",
       "    .dataframe tbody tr th:only-of-type {\n",
       "        vertical-align: middle;\n",
       "    }\n",
       "\n",
       "    .dataframe tbody tr th {\n",
       "        vertical-align: top;\n",
       "    }\n",
       "\n",
       "    .dataframe thead th {\n",
       "        text-align: right;\n",
       "    }\n",
       "</style>\n",
       "<table border=\"1\" class=\"dataframe\">\n",
       "  <thead>\n",
       "    <tr style=\"text-align: right;\">\n",
       "      <th></th>\n",
       "      <th>Student_ID</th>\n",
       "      <th>Name</th>\n",
       "      <th>Route</th>\n",
       "      <th>Bus_No</th>\n",
       "    </tr>\n",
       "  </thead>\n",
       "  <tbody>\n",
       "    <tr>\n",
       "      <th>0</th>\n",
       "      <td>S0001</td>\n",
       "      <td>Ravi Singh</td>\n",
       "      <td>R2</td>\n",
       "      <td>B13</td>\n",
       "    </tr>\n",
       "    <tr>\n",
       "      <th>6</th>\n",
       "      <td>S0007</td>\n",
       "      <td>Priya Das</td>\n",
       "      <td>R2</td>\n",
       "      <td>B13</td>\n",
       "    </tr>\n",
       "    <tr>\n",
       "      <th>7</th>\n",
       "      <td>S0008</td>\n",
       "      <td>Divya Patel</td>\n",
       "      <td>R2</td>\n",
       "      <td>B13</td>\n",
       "    </tr>\n",
       "    <tr>\n",
       "      <th>17</th>\n",
       "      <td>S0018</td>\n",
       "      <td>Ravi Das</td>\n",
       "      <td>R2</td>\n",
       "      <td>B13</td>\n",
       "    </tr>\n",
       "    <tr>\n",
       "      <th>18</th>\n",
       "      <td>S0019</td>\n",
       "      <td>Divya Yadav</td>\n",
       "      <td>R2</td>\n",
       "      <td>B12</td>\n",
       "    </tr>\n",
       "    <tr>\n",
       "      <th>...</th>\n",
       "      <td>...</td>\n",
       "      <td>...</td>\n",
       "      <td>...</td>\n",
       "      <td>...</td>\n",
       "    </tr>\n",
       "    <tr>\n",
       "      <th>1032</th>\n",
       "      <td>S103</td>\n",
       "      <td>Rupesh</td>\n",
       "      <td>R2</td>\n",
       "      <td>B12</td>\n",
       "    </tr>\n",
       "    <tr>\n",
       "      <th>1035</th>\n",
       "      <td>S101</td>\n",
       "      <td>Arjun</td>\n",
       "      <td>R2</td>\n",
       "      <td>B12</td>\n",
       "    </tr>\n",
       "    <tr>\n",
       "      <th>1037</th>\n",
       "      <td>S103</td>\n",
       "      <td>Rupesh</td>\n",
       "      <td>R2</td>\n",
       "      <td>B12</td>\n",
       "    </tr>\n",
       "    <tr>\n",
       "      <th>1040</th>\n",
       "      <td>S101</td>\n",
       "      <td>Arjun</td>\n",
       "      <td>R2</td>\n",
       "      <td>B12</td>\n",
       "    </tr>\n",
       "    <tr>\n",
       "      <th>1042</th>\n",
       "      <td>S103</td>\n",
       "      <td>Rupesh</td>\n",
       "      <td>R2</td>\n",
       "      <td>B12</td>\n",
       "    </tr>\n",
       "  </tbody>\n",
       "</table>\n",
       "<p>230 rows × 4 columns</p>\n",
       "</div>"
      ],
      "text/plain": [
       "     Student_ID         Name Route Bus_No\n",
       "0         S0001   Ravi Singh    R2    B13\n",
       "6         S0007    Priya Das    R2    B13\n",
       "7         S0008  Divya Patel    R2    B13\n",
       "17        S0018     Ravi Das    R2    B13\n",
       "18        S0019  Divya Yadav    R2    B12\n",
       "...         ...          ...   ...    ...\n",
       "1032       S103       Rupesh    R2    B12\n",
       "1035       S101        Arjun    R2    B12\n",
       "1037       S103       Rupesh    R2    B12\n",
       "1040       S101        Arjun    R2    B12\n",
       "1042       S103       Rupesh    R2    B12\n",
       "\n",
       "[230 rows x 4 columns]"
      ]
     },
     "metadata": {},
     "output_type": "display_data"
    },
    {
     "name": "stdout",
     "output_type": "stream",
     "text": [
      "\n",
      " Students in Bus B13:\n"
     ]
    },
    {
     "data": {
      "text/html": [
       "<div>\n",
       "<style scoped>\n",
       "    .dataframe tbody tr th:only-of-type {\n",
       "        vertical-align: middle;\n",
       "    }\n",
       "\n",
       "    .dataframe tbody tr th {\n",
       "        vertical-align: top;\n",
       "    }\n",
       "\n",
       "    .dataframe thead th {\n",
       "        text-align: right;\n",
       "    }\n",
       "</style>\n",
       "<table border=\"1\" class=\"dataframe\">\n",
       "  <thead>\n",
       "    <tr style=\"text-align: right;\">\n",
       "      <th></th>\n",
       "      <th>Student_ID</th>\n",
       "      <th>Name</th>\n",
       "      <th>Route</th>\n",
       "      <th>Bus_No</th>\n",
       "    </tr>\n",
       "  </thead>\n",
       "  <tbody>\n",
       "    <tr>\n",
       "      <th>0</th>\n",
       "      <td>S0001</td>\n",
       "      <td>Ravi Singh</td>\n",
       "      <td>R2</td>\n",
       "      <td>B13</td>\n",
       "    </tr>\n",
       "    <tr>\n",
       "      <th>6</th>\n",
       "      <td>S0007</td>\n",
       "      <td>Priya Das</td>\n",
       "      <td>R2</td>\n",
       "      <td>B13</td>\n",
       "    </tr>\n",
       "    <tr>\n",
       "      <th>7</th>\n",
       "      <td>S0008</td>\n",
       "      <td>Divya Patel</td>\n",
       "      <td>R2</td>\n",
       "      <td>B13</td>\n",
       "    </tr>\n",
       "    <tr>\n",
       "      <th>17</th>\n",
       "      <td>S0018</td>\n",
       "      <td>Ravi Das</td>\n",
       "      <td>R2</td>\n",
       "      <td>B13</td>\n",
       "    </tr>\n",
       "    <tr>\n",
       "      <th>22</th>\n",
       "      <td>S0023</td>\n",
       "      <td>Ananya Nair</td>\n",
       "      <td>R2</td>\n",
       "      <td>B13</td>\n",
       "    </tr>\n",
       "    <tr>\n",
       "      <th>...</th>\n",
       "      <td>...</td>\n",
       "      <td>...</td>\n",
       "      <td>...</td>\n",
       "      <td>...</td>\n",
       "    </tr>\n",
       "    <tr>\n",
       "      <th>1033</th>\n",
       "      <td>S104</td>\n",
       "      <td>Preethi</td>\n",
       "      <td>R3</td>\n",
       "      <td>B13</td>\n",
       "    </tr>\n",
       "    <tr>\n",
       "      <th>1036</th>\n",
       "      <td>S102</td>\n",
       "      <td>Lavanya</td>\n",
       "      <td>R3</td>\n",
       "      <td>B13</td>\n",
       "    </tr>\n",
       "    <tr>\n",
       "      <th>1038</th>\n",
       "      <td>S104</td>\n",
       "      <td>Preethi</td>\n",
       "      <td>R3</td>\n",
       "      <td>B13</td>\n",
       "    </tr>\n",
       "    <tr>\n",
       "      <th>1041</th>\n",
       "      <td>S102</td>\n",
       "      <td>Lavanya</td>\n",
       "      <td>R3</td>\n",
       "      <td>B13</td>\n",
       "    </tr>\n",
       "    <tr>\n",
       "      <th>1043</th>\n",
       "      <td>S104</td>\n",
       "      <td>Preethi</td>\n",
       "      <td>R3</td>\n",
       "      <td>B13</td>\n",
       "    </tr>\n",
       "  </tbody>\n",
       "</table>\n",
       "<p>118 rows × 4 columns</p>\n",
       "</div>"
      ],
      "text/plain": [
       "     Student_ID         Name Route Bus_No\n",
       "0         S0001   Ravi Singh    R2    B13\n",
       "6         S0007    Priya Das    R2    B13\n",
       "7         S0008  Divya Patel    R2    B13\n",
       "17        S0018     Ravi Das    R2    B13\n",
       "22        S0023  Ananya Nair    R2    B13\n",
       "...         ...          ...   ...    ...\n",
       "1033       S104      Preethi    R3    B13\n",
       "1036       S102      Lavanya    R3    B13\n",
       "1038       S104      Preethi    R3    B13\n",
       "1041       S102      Lavanya    R3    B13\n",
       "1043       S104      Preethi    R3    B13\n",
       "\n",
       "[118 rows x 4 columns]"
      ]
     },
     "metadata": {},
     "output_type": "display_data"
    },
    {
     "data": {
      "text/html": [
       "<div>\n",
       "<style scoped>\n",
       "    .dataframe tbody tr th:only-of-type {\n",
       "        vertical-align: middle;\n",
       "    }\n",
       "\n",
       "    .dataframe tbody tr th {\n",
       "        vertical-align: top;\n",
       "    }\n",
       "\n",
       "    .dataframe thead th {\n",
       "        text-align: right;\n",
       "    }\n",
       "</style>\n",
       "<table border=\"1\" class=\"dataframe\">\n",
       "  <thead>\n",
       "    <tr style=\"text-align: right;\">\n",
       "      <th></th>\n",
       "      <th>Student_ID</th>\n",
       "      <th>Name</th>\n",
       "      <th>Route</th>\n",
       "      <th>Bus_No</th>\n",
       "    </tr>\n",
       "  </thead>\n",
       "  <tbody>\n",
       "    <tr>\n",
       "      <th>0</th>\n",
       "      <td>S0001</td>\n",
       "      <td>Ravi Singh</td>\n",
       "      <td>R2</td>\n",
       "      <td>B13</td>\n",
       "    </tr>\n",
       "    <tr>\n",
       "      <th>6</th>\n",
       "      <td>S0007</td>\n",
       "      <td>Priya Das</td>\n",
       "      <td>R2</td>\n",
       "      <td>B13</td>\n",
       "    </tr>\n",
       "    <tr>\n",
       "      <th>7</th>\n",
       "      <td>S0008</td>\n",
       "      <td>Divya Patel</td>\n",
       "      <td>R2</td>\n",
       "      <td>B13</td>\n",
       "    </tr>\n",
       "    <tr>\n",
       "      <th>17</th>\n",
       "      <td>S0018</td>\n",
       "      <td>Ravi Das</td>\n",
       "      <td>R2</td>\n",
       "      <td>B13</td>\n",
       "    </tr>\n",
       "    <tr>\n",
       "      <th>22</th>\n",
       "      <td>S0023</td>\n",
       "      <td>Ananya Nair</td>\n",
       "      <td>R2</td>\n",
       "      <td>B13</td>\n",
       "    </tr>\n",
       "    <tr>\n",
       "      <th>...</th>\n",
       "      <td>...</td>\n",
       "      <td>...</td>\n",
       "      <td>...</td>\n",
       "      <td>...</td>\n",
       "    </tr>\n",
       "    <tr>\n",
       "      <th>1033</th>\n",
       "      <td>S104</td>\n",
       "      <td>Preethi</td>\n",
       "      <td>R3</td>\n",
       "      <td>B13</td>\n",
       "    </tr>\n",
       "    <tr>\n",
       "      <th>1036</th>\n",
       "      <td>S102</td>\n",
       "      <td>Lavanya</td>\n",
       "      <td>R3</td>\n",
       "      <td>B13</td>\n",
       "    </tr>\n",
       "    <tr>\n",
       "      <th>1038</th>\n",
       "      <td>S104</td>\n",
       "      <td>Preethi</td>\n",
       "      <td>R3</td>\n",
       "      <td>B13</td>\n",
       "    </tr>\n",
       "    <tr>\n",
       "      <th>1041</th>\n",
       "      <td>S102</td>\n",
       "      <td>Lavanya</td>\n",
       "      <td>R3</td>\n",
       "      <td>B13</td>\n",
       "    </tr>\n",
       "    <tr>\n",
       "      <th>1043</th>\n",
       "      <td>S104</td>\n",
       "      <td>Preethi</td>\n",
       "      <td>R3</td>\n",
       "      <td>B13</td>\n",
       "    </tr>\n",
       "  </tbody>\n",
       "</table>\n",
       "<p>118 rows × 4 columns</p>\n",
       "</div>"
      ],
      "text/plain": [
       "     Student_ID         Name Route Bus_No\n",
       "0         S0001   Ravi Singh    R2    B13\n",
       "6         S0007    Priya Das    R2    B13\n",
       "7         S0008  Divya Patel    R2    B13\n",
       "17        S0018     Ravi Das    R2    B13\n",
       "22        S0023  Ananya Nair    R2    B13\n",
       "...         ...          ...   ...    ...\n",
       "1033       S104      Preethi    R3    B13\n",
       "1036       S102      Lavanya    R3    B13\n",
       "1038       S104      Preethi    R3    B13\n",
       "1041       S102      Lavanya    R3    B13\n",
       "1043       S104      Preethi    R3    B13\n",
       "\n",
       "[118 rows x 4 columns]"
      ]
     },
     "execution_count": 15,
     "metadata": {},
     "output_type": "execute_result"
    }
   ],
   "source": [
    "# Summary + Lists\n",
    "count_students_per_route()\n",
    "generate_route_list(\"R2\")\n",
    "generate_bus_list(\"B13\")"
   ]
  },
  {
   "cell_type": "code",
   "execution_count": 16,
   "id": "f80fbcc4-ce1e-4f08-be91-20c83cb098fb",
   "metadata": {},
   "outputs": [
    {
     "data": {
      "image/png": "[encoded data removed]",
      "text/plain": [
       "<Figure size 1000x500 with 1 Axes>"
      ]
     },
     "metadata": {},
     "output_type": "display_data"
    },
    {
     "data": {
      "image/png": "[encoded data removed]",
      "text/plain": [
       "<Figure size 1000x500 with 1 Axes>"
      ]
     },
     "metadata": {},
     "output_type": "display_data"
    }
   ],
   "source": [
    "# Visualization \n",
    "visualize_distribution()"
   ]
  },
  {
   "cell_type": "code",
   "execution_count": 18,
   "id": "282be7d6-4718-4569-ac09-f9f877007388",
   "metadata": {},
   "outputs": [
    {
     "name": "stdout",
     "output_type": "stream",
     "text": [
      "\n",
      " ML Model Accuracy (Predicting Route from Bus_No): 0.98\n"
     ]
    },
    {
     "data": {
      "text/plain": [
       "0.9840764331210191"
      ]
     },
     "execution_count": 18,
     "metadata": {},
     "output_type": "execute_result"
    }
   ],
   "source": [
    "## ML Model Accuracy\n",
    "simple_ml_model()"
   ]
  },
  {
   "cell_type": "code",
   "execution_count": 20,
   "id": "cd02153e-308c-4ffb-b130-00daea591b81",
   "metadata": {},
   "outputs": [
    {
     "name": "stdout",
     "output_type": "stream",
     "text": [
      "\n",
      " Bias Check:\n",
      " Student distribution across routes looks balanced.\n"
     ]
    }
   ],
   "source": [
    "## bias_check()\n",
    "bias_check()"
   ]
  },
  {
   "cell_type": "code",
   "execution_count": null,
   "id": "d30e1d7d-1c5e-4156-b08a-a6513ce7a12b",
   "metadata": {},
   "outputs": [],
   "source": []
  }
 ],
 "metadata": {
  "kernelspec": {
   "display_name": "Python 3 (ipykernel)",
   "language": "python",
   "name": "python3"
  },
  "language_info": {
   "codemirror_mode": {
    "name": "ipython",
    "version": 3
   },
   "file_extension": ".py",
   "mimetype": "text/x-python",
   "name": "python",
   "nbconvert_exporter": "python",
   "pygments_lexer": "ipython3",
   "version": "3.12.7"
  }
 },
 "nbformat": 4,
 "nbformat_minor": 5
}
